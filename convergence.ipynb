{
 "cells": [
  {
   "attachments": {},
   "cell_type": "markdown",
   "id": "11753993-80bf-412c-9204-15f532865705",
   "metadata": {},
   "source": [
    "# Testing the optimization run for convergence"
   ]
  },
  {
   "cell_type": "code",
   "execution_count": 46,
   "id": "820d89a4-be94-453e-9a42-49a6292b7d3d",
   "metadata": {},
   "outputs": [],
   "source": [
    "import matplotlib.pyplot as plt\n",
    "import matplotlib.font_manager as fm\n",
    "from matplotlib import rcParams\n",
    "import seaborn as sns\n",
    "import pandas as pd\n",
    "import numpy as np\n",
    "\n",
    "from ema_workbench import Model, RealParameter, ScalarOutcome, HypervolumeMetric, GenerationalDistanceMetric\n",
    "from ema_workbench.em_framework import ArchiveLogger, epsilon_nondominated \n",
    "from ema_workbench.em_framework.optimization import epsilon_nondominated, to_problem\n",
    "\n",
    "from experimentation import data_generation\n",
    "from model.model_nile import ModelNile\n"
   ]
  },
  {
   "cell_type": "code",
   "execution_count": 47,
   "id": "d1f4be7f-ecf7-4c97-a05e-419553510dbe",
   "metadata": {},
   "outputs": [],
   "source": [
    "# # sns.set(font_scale=1.2)\n",
    "\n",
    "# fm.fontManager.addfont(\"Minion Pro Regular.ttf\")\n",
    "# matplotlib.rc(\"font\", family=\"Minion Pro\")\n",
    "\n",
    "# rcParams[\"font.family\"] = \"Minion Pro\"\n",
    "# rcParams[\"font.sans-serif\"] = \"Minion Pro\"\n",
    "# rcParams[\"font.size\"] = 12"
   ]
  },
  {
   "cell_type": "markdown",
   "id": "5f254802",
   "metadata": {},
   "source": [
    "## 1. Data colleciton"
   ]
  },
  {
   "cell_type": "markdown",
   "id": "70724f8c",
   "metadata": {},
   "source": [
    "### 1.1 The models used for experiments"
   ]
  },
  {
   "cell_type": "code",
   "execution_count": 48,
   "id": "bc3f4e40",
   "metadata": {},
   "outputs": [],
   "source": [
    "# Define the subfolder names corresponding to different experiments.\n",
    "max_nfe = [\"nfe500000_None_bigger_48cpu\"]\n",
    "different_principles = [\"nfe250000_uwf_biggest\", \"nfe250000_pwf_biggest\", \"nfe250000_gini_biggest\"]\n",
    "subfoldernames = different_principles"
   ]
  },
  {
   "cell_type": "code",
   "execution_count": 49,
   "id": "ef8ceb56",
   "metadata": {},
   "outputs": [],
   "source": [
    "def get_principle(s):\n",
    "    for principle in [\"None\", \"uwf\", \"pwf\", \"gini\"]:\n",
    "        if principle in s:\n",
    "            return principle\n",
    "    raise ValueError(\"Invalid string, principle not recognized.\")"
   ]
  },
  {
   "cell_type": "code",
   "execution_count": 50,
   "id": "40fb7c0d",
   "metadata": {},
   "outputs": [],
   "source": [
    "def create_em_model(principle):\n",
    "    nile_model = ModelNile(principle=principle)\n",
    "    nile_model = data_generation.generate_input_data(nile_model, sim_horizon=20)\n",
    "    \n",
    "    em_model = Model(\"NileProblem\", function=nile_model)\n",
    "\n",
    "    parameter_count = nile_model.overarching_policy.get_total_parameter_count()\n",
    "    n_inputs = nile_model.overarching_policy.functions[\"release\"].n_inputs\n",
    "    n_outputs = nile_model.overarching_policy.functions[\"release\"].n_outputs\n",
    "    p_per_RBF = 2 * n_inputs + n_outputs\n",
    "\n",
    "    lever_list = list()\n",
    "    for i in range(parameter_count):\n",
    "        modulus = (i - n_outputs) % p_per_RBF\n",
    "        if (\n",
    "            (i >= n_outputs)\n",
    "            and (modulus < (p_per_RBF - n_outputs))\n",
    "            and (modulus % 2 == 0)\n",
    "        ):  # centers:\n",
    "            lever_list.append(RealParameter(f\"v{i}\", -1, 1))\n",
    "        else:  # linear parameters for each release, radii, and weights of RBFs:\n",
    "            lever_list.append(RealParameter(f\"v{i}\", 0, 1))\n",
    "\n",
    "    em_model.levers = lever_list\n",
    "\n",
    "    # specify outcomes\n",
    "    em_model.outcomes = [\n",
    "        ScalarOutcome(\"egypt_irr\", ScalarOutcome.MINIMIZE),\n",
    "        ScalarOutcome(\"egypt_90\", ScalarOutcome.MINIMIZE),\n",
    "        ScalarOutcome(\"egypt_low_had\", ScalarOutcome.MINIMIZE),\n",
    "        ScalarOutcome(\"sudan_irr\", ScalarOutcome.MINIMIZE),\n",
    "        ScalarOutcome(\"sudan_90\", ScalarOutcome.MINIMIZE),\n",
    "        ScalarOutcome(\"ethiopia_hydro\", ScalarOutcome.MAXIMIZE),\n",
    "    ]\n",
    "    if principle != \"None\":\n",
    "        em_model.outcomes.extend([ScalarOutcome(\"principle_result\", ScalarOutcome.MAXIMIZE)])\n",
    "    \n",
    "    return em_model"
   ]
  },
  {
   "cell_type": "code",
   "execution_count": 51,
   "id": "6fe636c1",
   "metadata": {},
   "outputs": [
    {
     "name": "stdout",
     "output_type": "stream",
     "text": [
      "nfe250000_uwf_biggest\n"
     ]
    },
    {
     "name": "stdout",
     "output_type": "stream",
     "text": [
      "number of outcomes: 7\n",
      "nfe250000_pwf_biggest\n",
      "number of outcomes: 7\n",
      "nfe250000_gini_biggest\n",
      "number of outcomes: 7\n"
     ]
    }
   ],
   "source": [
    "em_models = []\n",
    "problems = []\n",
    "for subfolder in subfoldernames:\n",
    "    print(subfolder)\n",
    "    principle = get_principle(subfolder)\n",
    "    em_model = create_em_model(principle)\n",
    "    em_models.append(em_model)\n",
    "    print(\"number of outcomes:\", len(em_model.outcomes))\n",
    "    problem = to_problem(em_model, searchover=\"levers\")\n",
    "    problems.append(problem)"
   ]
  },
  {
   "cell_type": "markdown",
   "id": "9e6d60d6",
   "metadata": {},
   "source": [
    "### 1.2 Results from experiments"
   ]
  },
  {
   "cell_type": "code",
   "execution_count": 52,
   "id": "22ef4dad",
   "metadata": {},
   "outputs": [],
   "source": [
    "# Initialize empty lists to store results and convergence data for each experiment.\n",
    "results = []\n",
    "convergences = []\n",
    "\n",
    "# Loop through each subfolder (experiment) to extract results and convergence data.\n",
    "for subfolder in subfoldernames:\n",
    "    # Construct the path to the subfolder.\n",
    "    subfolderpath = f\"outputs/{subfolder}\" \n",
    "    \n",
    "    # Construct the file paths for the results and convergence CSV files for the current experiment.\n",
    "    results_filepath = f\"{subfolderpath}/baseline_results_{subfolder}.csv\"\n",
    "    convergence_filepath = f\"{subfolderpath}/baseline_convergence_{subfolder}.csv\"\n",
    "\n",
    "    # Read the CSV files into DataFrames.\n",
    "    result = pd.read_csv(results_filepath, index_col=0)\n",
    "    convergence = pd.read_csv(convergence_filepath, index_col=[0])\n",
    "\n",
    "    # Append the DataFrames to their respective lists.\n",
    "    results.append(result)\n",
    "    convergences.append(convergence)\n"
   ]
  },
  {
   "cell_type": "code",
   "execution_count": 53,
   "id": "1ebcecfa",
   "metadata": {},
   "outputs": [
    {
     "name": "stdout",
     "output_type": "stream",
     "text": [
      "Number of elements in 'results': 3\n",
      "Number of elements in 'convergences': 3\n",
      "\n",
      "--- Information for subfolder: nfe250000_uwf_biggest ---\n",
      "Shape of result DataFrame: (8, 171) (rows x columns)\n",
      "Shape of convergence DataFrame: (4, 2) (rows x columns)\n",
      "\n",
      "--- Information for subfolder: nfe250000_pwf_biggest ---\n",
      "Shape of result DataFrame: (3, 171) (rows x columns)\n",
      "Shape of convergence DataFrame: (4, 2) (rows x columns)\n",
      "\n",
      "--- Information for subfolder: nfe250000_gini_biggest ---\n",
      "Shape of result DataFrame: (4, 171) (rows x columns)\n",
      "Shape of convergence DataFrame: (4, 2) (rows x columns)\n"
     ]
    }
   ],
   "source": [
    "# Displaying meta-information for the results and convergences\n",
    "print(f\"Number of elements in 'results': {len(results)}\")\n",
    "print(f\"Number of elements in 'convergences': {len(convergences)}\")\n",
    "\n",
    "for idx, (result, convergence) in enumerate(zip(results, convergences)):\n",
    "    print(f\"\\n--- Information for subfolder: {subfoldernames[idx]} ---\")\n",
    "    print(f\"Shape of result DataFrame: {result.shape} (rows x columns)\")\n",
    "    print(f\"Shape of convergence DataFrame: {convergence.shape} (rows x columns)\")"
   ]
  },
  {
   "cell_type": "markdown",
   "id": "10bc529e",
   "metadata": {},
   "source": [
    "### Hypervolume and Generational distance with Platypus Metrics\n",
    "To evaluate optimization convergence, we use Hypervolume and Generational Distance metrics from Platypus. For precise analysis, we need to load the necessary archived data into memory."
   ]
  },
  {
   "cell_type": "code",
   "execution_count": 54,
   "id": "b9a50dca",
   "metadata": {},
   "outputs": [],
   "source": [
    "# Initialize an empty list to store archives for each experiment.\n",
    "all_archives = []\n",
    "\n",
    "# Loop through each subfolder (representing different experiments).\n",
    "for subfolder in subfoldernames:\n",
    "    # Construct the path to the current experiment's output folder and the archive file for the current experiment.\n",
    "    subfolderpath = f\"outputs/{subfolder}\"\n",
    "    archive_path = f\"{subfolderpath}/archive_logs/archives.tar.gz\"\n",
    "    \n",
    "    # Load the archives using the provided ArchiveLogger function.\n",
    "    archives = ArchiveLogger.load_archives(archive_path)\n",
    "\n",
    "    # Drop the first column from each archive dataframe\n",
    "    for key in archives:\n",
    "        archives[key] = archives[key].iloc[:, 1:]\n",
    "    \n",
    "    # Append the loaded archives to the main list.\n",
    "    all_archives.append(archives)"
   ]
  },
  {
   "cell_type": "code",
   "execution_count": 55,
   "id": "bde2154e",
   "metadata": {},
   "outputs": [
    {
     "name": "stdout",
     "output_type": "stream",
     "text": [
      "Total number of archives: 3\n",
      "Archive 1: 4 items\n",
      "Archive 2: 4 items\n",
      "Archive 3: 4 items\n"
     ]
    }
   ],
   "source": [
    "print(f\"Total number of archives: {len(all_archives)}\")\n",
    "for index, archive in enumerate(all_archives, 1):\n",
    "    print(f\"Archive {index}: {len(archive)} items\")"
   ]
  },
  {
   "cell_type": "markdown",
   "id": "f86a62c0",
   "metadata": {},
   "source": [
    "## 2 Convergence resultst"
   ]
  },
  {
   "cell_type": "code",
   "execution_count": 56,
   "id": "852b089c",
   "metadata": {},
   "outputs": [
    {
     "name": "stdout",
     "output_type": "stream",
     "text": [
      "<ema_workbench.em_framework.optimization.Problem object at 0x000001A0C0CEDD00>\n",
      "<ema_workbench.em_framework.optimization.Problem object at 0x000001A0D6DCC7F0>\n",
      "<ema_workbench.em_framework.optimization.Problem object at 0x000001A0D6ED72E0>\n"
     ]
    }
   ],
   "source": [
    "hvs = []\n",
    "gds = []\n",
    "# Iterate over each result and its corresponding problem.\n",
    "for result, problem in zip(results, problems):\n",
    "    print(problem)\n",
    "    # Calculate Hypervolume and Generational Distance metrics for the current result.\n",
    "    hv = HypervolumeMetric(result, problem)\n",
    "    gd = GenerationalDistanceMetric(result, problem, d=1)\n",
    "    \n",
    "    # Append the metrics to their respective lists.\n",
    "    hvs.append(hv)\n",
    "    gds.append(gd)"
   ]
  },
  {
   "cell_type": "code",
   "execution_count": 57,
   "id": "93cd7766",
   "metadata": {},
   "outputs": [
    {
     "name": "stderr",
     "output_type": "stream",
     "text": [
      "Processing NFEs: 100%|██████████| 4/4 [00:00<00:00, 25.71it/s]\n",
      "Processing NFEs: 100%|██████████| 4/4 [00:00<00:00, 30.34it/s]\n",
      "Processing NFEs: 100%|██████████| 4/4 [00:00<00:00, 34.88it/s]\n"
     ]
    }
   ],
   "source": [
    "from tqdm import tqdm\n",
    "\n",
    "metrics_by_seed = []\n",
    "\n",
    "# Iterate over each archive, hv, and gd simultaneously\n",
    "for archives, current_hv, current_gd in zip(all_archives, hvs, gds):\n",
    "    metrics = []\n",
    "    for nfe, archive in tqdm(archives.items(), desc=\"Processing NFEs\"):\n",
    "        scores = {\n",
    "            \"generational_distance\": current_gd.calculate(archive),\n",
    "            \"hypervolume\": current_hv.calculate(archive),\n",
    "            \"nfe\": int(nfe)\n",
    "        }\n",
    "        metrics.append(scores)\n",
    "    \n",
    "    metrics = pd.DataFrame.from_dict(metrics)\n",
    "    # Sort metrics by number of function evaluations\n",
    "    metrics.sort_values(by=\"nfe\", inplace=True)\n",
    "    metrics_by_seed.append(metrics)"
   ]
  },
  {
   "cell_type": "code",
   "execution_count": 58,
   "id": "e640bf3e",
   "metadata": {},
   "outputs": [
    {
     "data": {
      "image/png": "[encoded data removed]",
      "text/plain": [
       "<Figure size 800x600 with 3 Axes>"
      ]
     },
     "metadata": {},
     "output_type": "display_data"
    }
   ],
   "source": [
    "sns.set_style(\"white\")\n",
    "fig, axes = plt.subplots(nrows=3, figsize=(8, 6), sharex=True)\n",
    "\n",
    "ax1, ax2, ax3 = axes\n",
    "\n",
    "principles = [get_principle(subfolder) for subfolder in subfoldernames]\n",
    "\n",
    "for metrics, convergence, principle in zip(metrics_by_seed, convergences, principles):\n",
    "    ax1.plot(metrics.nfe, metrics.hypervolume, label=principle)\n",
    "    ax1.set_ylabel(\"hypervolume\")\n",
    "    \n",
    "    ax2.plot(convergence.nfe, convergence.epsilon_progress, label=principle)\n",
    "    ax2.set_ylabel(\"$\\epsilon$ progress\")\n",
    "\n",
    "    ax3.plot(metrics.nfe, metrics.generational_distance, label=principle)\n",
    "    ax3.set_ylabel(\"generational distance\")\n",
    "\n",
    "for ax in axes:\n",
    "    ax.set_xlabel(\"nfe\")\n",
    "    ax.legend()  # Display the legend on each subplot\n",
    "\n",
    "sns.despine(fig)\n",
    "\n",
    "plt.show()"
   ]
  },
  {
   "cell_type": "code",
   "execution_count": null,
   "id": "65a51d9c",
   "metadata": {},
   "outputs": [],
   "source": []
  }
 ],
 "metadata": {
  "kernelspec": {
   "display_name": "Python 3",
   "language": "python",
   "name": "python3"
  },
  "language_info": {
   "codemirror_mode": {
    "name": "ipython",
    "version": 3
   },
   "file_extension": ".py",
   "mimetype": "text/x-python",
   "name": "python",
   "nbconvert_exporter": "python",
   "pygments_lexer": "ipython3",
   "version": "3.9.17"
  },
  "vscode": {
   "interpreter": {
    "hash": "aee8b7b246df8f9039afb4144a1f6fd8d2ca17a180786b69acc140d282b71a49"
   }
  }
 },
 "nbformat": 4,
 "nbformat_minor": 5
}
