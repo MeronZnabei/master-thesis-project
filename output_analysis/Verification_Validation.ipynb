{
 "cells": [
  {
   "cell_type": "markdown",
   "metadata": {},
   "source": [
    "### Checking Objective Ranges for Correct Epsilon Values"
   ]
  },
  {
   "cell_type": "code",
   "execution_count": null,
   "metadata": {
    "vscode": {
     "languageId": "plaintext"
    }
   },
   "outputs": [],
   "source": [
    "# calculating the coefficient of variation for the objectives\n",
    "cv_results = (objectives_df.std(numeric_only=True) / objectives_df.mean(numeric_only=True)) * 100\n",
    "print(cv_results)"
   ]
  },
  {
   "cell_type": "markdown",
   "metadata": {},
   "source": [
    "# Create a bar plot for CV results\n",
    "plt.figure(figsize=(10, 6))\n",
    "plt.bar(cv_results.index, cv_results.values, color='skyblue')\n",
    "plt.xlabel('Objectives')\n",
    "plt.ylabel('Coefficient of Variation (%)')\n",
    "plt.title('Coefficient of Variation for Objectives with Gini')\n",
    "plt.xticks(rotation=45, ha='right')\n",
    "\n",
    "# Adding labels above each bar\n",
    "for index, value in enumerate(cv_results.values):\n",
    "    plt.text(index, value + 1, f\"{value:.2f}\", ha='center', va='bottom')\n",
    "\n",
    "plt.tight_layout()\n",
    "plt.show()"
   ]
  }
 ],
 "metadata": {
  "language_info": {
   "name": "python"
  },
  "orig_nbformat": 4
 },
 "nbformat": 4,
 "nbformat_minor": 2
}
